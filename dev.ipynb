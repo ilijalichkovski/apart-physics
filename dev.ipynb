{
 "cells": [
  {
   "cell_type": "markdown",
   "id": "343620a0",
   "metadata": {},
   "source": [
    "# Testing notebook"
   ]
  },
  {
   "cell_type": "code",
   "execution_count": 36,
   "id": "9707a1ea",
   "metadata": {},
   "outputs": [],
   "source": [
    "import random\n",
    "\n",
    "from datasets import Dataset, load_dataset\n",
    "\n",
    "SYSTEM_PROMPT = \"\"\"\n",
    "Respond ONLY with the answer to the question in the following format:\n",
    "<answer>\n",
    "...\n",
    "</answer>\n",
    "\"\"\"\n",
    "\n",
    "def generate_arithmetic_problems(\n",
    "        max_digits: int = 4,\n",
    "        num_terms: int = 2,\n",
    "        num_problems: int = 10,\n",
    ") -> Dataset:\n",
    "    problems = {\"problem\": [], \"answer\": []}\n",
    "    for _ in range(num_problems):\n",
    "        terms = [random.randint(1, 10**max_digits) for _ in range(num_terms)]\n",
    "\n",
    "        problem = f\"{terms[0]}\"\n",
    "\n",
    "        for i in range(num_terms-1):\n",
    "            problem += f\" {random.choice(['+', '-', '*', '/'])} {terms[i + 1]} \"\n",
    "        problem += f\" = \"\n",
    "        problems[\"problem\"].append(problem)\n",
    "        problems[\"answer\"].append(eval(problem.replace('=', '').strip()))\n",
    "\n",
    "    data = Dataset.from_dict(problems)\n",
    "    data = data.map(lambda x: {\n",
    "        'prompt': [\n",
    "            {'role': 'system', 'content': SYSTEM_PROMPT},\n",
    "            {'role': 'user', 'content': x['problem']}\n",
    "        ],\n",
    "        \"answer\": x[\"answer\"]\n",
    "    })\n",
    "    return data"
   ]
  },
  {
   "cell_type": "code",
   "execution_count": 37,
   "id": "ba75d6ac",
   "metadata": {},
   "outputs": [
    {
     "name": "stderr",
     "output_type": "stream",
     "text": [
      "Map: 100%|██████████| 5/5 [00:00<00:00, 120.76 examples/s]\n"
     ]
    },
    {
     "data": {
      "text/plain": [
       "{'problem': '69291 + 96398  * 91358  = ',\n",
       " 'answer': 8806797775.0,\n",
       " 'prompt': [{'content': '\\nRespond ONLY with the answer to the question in the following format:\\n<answer>\\n...\\n</answer>\\n',\n",
       "   'role': 'system'},\n",
       "  {'content': '69291 + 96398  * 91358  = ', 'role': 'user'}]}"
      ]
     },
     "execution_count": 37,
     "metadata": {},
     "output_type": "execute_result"
    }
   ],
   "source": [
    "problems = generate_arithmetic_problems(\n",
    "    max_digits=5,\n",
    "    num_terms=3,\n",
    "    num_problems=5,\n",
    ")\n",
    "\n",
    "problems[4]"
   ]
  },
  {
   "cell_type": "code",
   "execution_count": null,
   "id": "20a0011e",
   "metadata": {},
   "outputs": [],
   "source": []
  }
 ],
 "metadata": {
  "kernelspec": {
   "display_name": ".venv",
   "language": "python",
   "name": "python3"
  },
  "language_info": {
   "codemirror_mode": {
    "name": "ipython",
    "version": 3
   },
   "file_extension": ".py",
   "mimetype": "text/x-python",
   "name": "python",
   "nbconvert_exporter": "python",
   "pygments_lexer": "ipython3",
   "version": "3.10.16"
  }
 },
 "nbformat": 4,
 "nbformat_minor": 5
}
